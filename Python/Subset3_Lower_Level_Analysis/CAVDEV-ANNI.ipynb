{
 "cells": [
  {
   "cell_type": "code",
   "execution_count": 1,
   "id": "a40a6029",
   "metadata": {},
   "outputs": [],
   "source": [
    "%load_ext autoreload\n",
    "%autoreload 2"
   ]
  },
  {
   "cell_type": "code",
   "execution_count": 5,
   "id": "57fbcff0",
   "metadata": {},
   "outputs": [],
   "source": [
    "import pandas as pd\n",
    "import numpy as np\n",
    "import warnings\n",
    "warnings.filterwarnings(\"ignore\")\n",
    "pd.set_option('display.max_columns', None)\n",
    "pd.set_option('display.max_rows', None)\n",
    "\n",
    "from GeneralFunctions import CheckNulls\n",
    "from DataFrameFunctionsAnalyzing import (analysis,\n",
    "                                         analysis_comparison,\n",
    "                                         analysis_top8)"
   ]
  },
  {
   "cell_type": "code",
   "execution_count": 3,
   "id": "ce8b126d",
   "metadata": {
    "collapsed": true
   },
   "outputs": [
    {
     "name": "stdout",
     "output_type": "stream",
     "text": [
      "**subset1 dataset**\n",
      "\n",
      "        Total Number of Null values:\n",
      "\n",
      "SURVEYR            0\n",
      "DESCRIP_E          0\n",
      "QUESTION           0\n",
      "SCORE100           0\n",
      "ANSCOUNT           0\n",
      "INDICATORENG       0\n",
      "SUBINDICATORENG    0\n",
      "dtype: int64\n",
      "\n",
      "        ========================================\n",
      "\n",
      "        \n",
      "**subset2 dataset**\n",
      "\n",
      "        Total Number of Null values:\n",
      "\n",
      "SURVEYR            0\n",
      "DESCRIP_E          0\n",
      "QUESTION           0\n",
      "SCORE100           0\n",
      "ANSCOUNT           0\n",
      "INDICATORENG       0\n",
      "SUBINDICATORENG    0\n",
      "dtype: int64\n",
      "\n",
      "        ========================================\n",
      "\n",
      "        \n",
      "**subset3 dataset**\n",
      "\n",
      "        Total Number of Null values:\n",
      "\n",
      "SURVEYR            0\n",
      "DESCRIP_E          0\n",
      "QUESTION           0\n",
      "SCORE100           0\n",
      "ANSCOUNT           0\n",
      "INDICATORENG       0\n",
      "SUBINDICATORENG    0\n",
      "dtype: int64\n",
      "\n",
      "        ========================================\n",
      "\n",
      "        \n",
      "**subset4 dataset**\n",
      "\n",
      "        Total Number of Null values:\n",
      "\n",
      "SURVEYR            0\n",
      "DESCRIP_E          0\n",
      "QUESTION           0\n",
      "SCORE100           0\n",
      "ANSCOUNT           0\n",
      "INDICATORENG       0\n",
      "SUBINDICATORENG    0\n",
      "dtype: int64\n",
      "\n",
      "        ========================================\n",
      "\n",
      "        \n",
      "**subset5 dataset**\n",
      "\n",
      "        Total Number of Null values:\n",
      "\n",
      "SURVEYR            0\n",
      "DESCRIP_E          0\n",
      "QUESTION           0\n",
      "SCORE100           0\n",
      "ANSCOUNT           0\n",
      "INDICATORENG       0\n",
      "SUBINDICATORENG    0\n",
      "dtype: int64\n",
      "\n",
      "        ========================================\n",
      "\n",
      "        \n",
      "**subset6 dataset**\n",
      "\n",
      "        Total Number of Null values:\n",
      "\n",
      "SURVEYR            0\n",
      "DESCRIP_E          0\n",
      "QUESTION           0\n",
      "SCORE100           0\n",
      "ANSCOUNT           0\n",
      "INDICATORENG       0\n",
      "SUBINDICATORENG    0\n",
      "dtype: int64\n",
      "\n",
      "        ========================================\n",
      "\n",
      "        \n",
      "**subset7 dataset**\n",
      "\n",
      "        Total Number of Null values:\n",
      "\n",
      "SURVEYR            0\n",
      "DESCRIP_E          0\n",
      "QUESTION           0\n",
      "SCORE100           0\n",
      "ANSCOUNT           0\n",
      "INDICATORENG       0\n",
      "SUBINDICATORENG    0\n",
      "dtype: int64\n",
      "\n",
      "        ========================================\n",
      "\n",
      "        \n"
     ]
    }
   ],
   "source": [
    "checknulls = CheckNulls()\n",
    "checknulls"
   ]
  },
  {
   "cell_type": "code",
   "execution_count": 4,
   "id": "6c06e0c2",
   "metadata": {
    "scrolled": true
   },
   "outputs": [
    {
     "name": "stdout",
     "output_type": "stream",
     "text": [
      "CPU times: user 5min 38s, sys: 42 s, total: 6min 20s\n",
      "Wall time: 6min 29s\n"
     ]
    }
   ],
   "source": [
    "%%time\n",
    "# filters=\"WORKPLACE WELL-BEING\", \"COMPENSATION\", \"WORKPLACE\", \"WORKFORCE\", \"EMPLOYEE ENGAGEMENT\", \"LEADERSHIP\"\n",
    "df1_res1, df1_res2, df1_res3, df1_res4, df1_res5 = analysis_comparison(filters = \"WORKPLACE WELL-BEING\")\n",
    "df2_res1, df2_res2, df2_res3, df2_res4, df2_res5 = analysis_comparison(filters = \"COMPENSATION\")\n",
    "df3_res1, df3_res2, df3_res3, df3_res4, df3_res5 = analysis_comparison(filters = \"WORKPLACE\")\n",
    "df4_res1, df4_res2, df4_res3, df4_res4, df4_res5 = analysis_comparison(filters = \"WORKFORCE\")\n",
    "df5_res1, df5_res2, df5_res3, df5_res4, df5_res5 = analysis_comparison(filters = \"EMPLOYEE ENGAGEMENT\")\n",
    "df6_res1, df6_res2, df6_res3, df6_res4, df6_res5 = analysis_comparison(filters = \"LEADERSHIP\")\n",
    "\n",
    "'''\n",
    "res1: comparison between gaps, showed the result in a bad way in which the recommendations are needed\n",
    "res2: comparison between gaps, showed the result in a good way in which the old strategies should still apply in the future\n",
    "res3: comparison between 2020 to 2019, showed the result in a bad way in which the recommendations are needed\n",
    "res4: comparison between 2020 to 2019, showed the result in a good way in which the old strategies should still apply in the future\n",
    "res5: overall weighted by column DESCRIP\n",
    "'''"
   ]
  }
 ],
 "metadata": {
  "kernelspec": {
   "display_name": "Python 3",
   "language": "python",
   "name": "python3"
  },
  "language_info": {
   "codemirror_mode": {
    "name": "ipython",
    "version": 3
   },
   "file_extension": ".py",
   "mimetype": "text/x-python",
   "name": "python",
   "nbconvert_exporter": "python",
   "pygments_lexer": "ipython3",
   "version": "3.8.8"
  }
 },
 "nbformat": 4,
 "nbformat_minor": 5
}
